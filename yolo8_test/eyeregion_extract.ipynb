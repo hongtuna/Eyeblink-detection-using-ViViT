{
 "cells": [
  {
   "cell_type": "code",
   "execution_count": 2,
   "id": "e3792bc8-9cd9-4364-ab49-438b14446260",
   "metadata": {},
   "outputs": [],
   "source": [
    "from pathlib import Path\n",
    "\n",
    "import matplotlib.pyplot as plt\n",
    "import cv2\n",
    "import torch\n",
    "from PIL import Image\n",
    "\n",
    "from ultralytics import YOLO\n",
    "from ultralytics.yolo.utils import ROOT, SETTINGS"
   ]
  },
  {
   "cell_type": "code",
   "execution_count": 24,
   "id": "da067b8e-ad41-48cb-b5bc-034ecfc06029",
   "metadata": {},
   "outputs": [
    {
     "data": {
      "text/plain": [
       "'8.0.87'"
      ]
     },
     "execution_count": 24,
     "metadata": {},
     "output_type": "execute_result"
    }
   ],
   "source": [
    "import ultralytics\n",
    "ultralytics.__version__"
   ]
  },
  {
   "cell_type": "code",
   "execution_count": 3,
   "id": "17678f91-dec9-49dc-a6cb-77641292a15b",
   "metadata": {},
   "outputs": [],
   "source": [
    "import os"
   ]
  },
  {
   "cell_type": "code",
   "execution_count": 4,
   "id": "b37b8f8b-ccab-479c-8856-739499f74039",
   "metadata": {},
   "outputs": [
    {
     "data": {
      "text/plain": [
       "PosixPath('/Users/jeongmin/opt/anaconda3/envs/vir/lib/python3.10/site-packages/ultralytics')"
      ]
     },
     "execution_count": 4,
     "metadata": {},
     "output_type": "execute_result"
    }
   ],
   "source": [
    "ROOT"
   ]
  },
  {
   "cell_type": "code",
   "execution_count": 5,
   "id": "01ed49c8-6d11-455a-a7c9-313cab95cde5",
   "metadata": {},
   "outputs": [
    {
     "data": {
      "text/plain": [
       "PosixPath('weights')"
      ]
     },
     "execution_count": 5,
     "metadata": {},
     "output_type": "execute_result"
    }
   ],
   "source": [
    "Path(SETTINGS['weights_dir'])"
   ]
  },
  {
   "cell_type": "code",
   "execution_count": 6,
   "id": "fa1fc14b-d48f-4b92-9258-a8830c25d1cb",
   "metadata": {},
   "outputs": [],
   "source": [
    "# Define model location\n",
    "MODEL  = '../ultralytics/yolov8n-face.pt'\n",
    "DIRS = '../../worst_frame_eye'"
   ]
  },
  {
   "cell_type": "markdown",
   "id": "9fe9908a-687a-47c5-b6b5-6f831a7a91e8",
   "metadata": {
    "tags": []
   },
   "source": [
    "### Single frame"
   ]
  },
  {
   "cell_type": "code",
   "execution_count": 25,
   "id": "d903c464-cb20-4279-b1a9-280cde49dd70",
   "metadata": {
    "tags": []
   },
   "outputs": [],
   "source": [
    "MODEL  = '../ultralytics/yolov8n-face.pt'\n",
    "#CFG = 'yolov8n.yaml'\n",
    "#SOURCE = ROOT / 'assets/bus.jpg'\n",
    "SOURCE = '../x/img_890.jpg'"
   ]
  },
  {
   "cell_type": "code",
   "execution_count": 26,
   "id": "b2f10064-d786-4f65-bea8-43e4ce8f01a1",
   "metadata": {},
   "outputs": [
    {
     "name": "stderr",
     "output_type": "stream",
     "text": [
      "\n",
      "0: 480x640 1 face, 241.5ms\n",
      "Speed: 6.3ms preprocess, 241.5ms inference, 2.0ms postprocess per image at shape (1, 3, 640, 640)\n"
     ]
    }
   ],
   "source": [
    "model = YOLO(MODEL)\n",
    "img = Image.open(str(SOURCE))\n",
    "output = model(source=img)  # PIL"
   ]
  },
  {
   "cell_type": "code",
   "execution_count": 31,
   "id": "22ab931d-a9f3-43ef-8f84-335dd32fdfce",
   "metadata": {},
   "outputs": [
    {
     "data": {
      "text/plain": [
       "[ultralytics.yolo.engine.results.Results object with attributes:\n",
       " \n",
       " boxes: ultralytics.yolo.engine.results.Boxes object\n",
       " keypoints: tensor([[[327.9095, 132.4993,   0.9030],\n",
       "          [378.4464, 117.9197,   0.9217],\n",
       "          [380.0398, 165.1713,   0.9265],\n",
       "          [342.3429, 193.2245,   0.8676],\n",
       "          [381.3272, 181.9656,   0.8888]]])\n",
       " keys: ['boxes', 'keypoints']\n",
       " masks: None\n",
       " names: {0: 'face'}\n",
       " orig_img: array([[[255, 253, 253],\n",
       "         [255, 253, 253],\n",
       "         [255, 253, 253],\n",
       "         ...,\n",
       "         [115, 123, 122],\n",
       "         [123, 129, 128],\n",
       "         [123, 129, 128]],\n",
       " \n",
       "        [[255, 253, 253],\n",
       "         [255, 253, 253],\n",
       "         [255, 253, 253],\n",
       "         ...,\n",
       "         [100, 108, 107],\n",
       "         [115, 121, 120],\n",
       "         [109, 115, 114]],\n",
       " \n",
       "        [[255, 253, 253],\n",
       "         [255, 253, 253],\n",
       "         [255, 253, 253],\n",
       "         ...,\n",
       "         [ 79,  87,  86],\n",
       "         [ 85,  91,  90],\n",
       "         [ 76,  82,  81]],\n",
       " \n",
       "        ...,\n",
       " \n",
       "        [[170, 168, 167],\n",
       "         [170, 168, 167],\n",
       "         [167, 168, 166],\n",
       "         ...,\n",
       "         [153, 158, 156],\n",
       "         [153, 158, 156],\n",
       "         [153, 158, 156]],\n",
       " \n",
       "        [[168, 167, 163],\n",
       "         [169, 168, 164],\n",
       "         [168, 169, 165],\n",
       "         ...,\n",
       "         [155, 160, 158],\n",
       "         [154, 159, 157],\n",
       "         [154, 159, 157]],\n",
       " \n",
       "        [[167, 166, 162],\n",
       "         [169, 168, 164],\n",
       "         [169, 170, 166],\n",
       "         ...,\n",
       "         [156, 161, 159],\n",
       "         [156, 161, 159],\n",
       "         [155, 160, 158]]], dtype=uint8)\n",
       " orig_shape: (480, 640)\n",
       " path: '../x/img_890.jpg'\n",
       " probs: None\n",
       " speed: {'preprocess': 6.311893463134766, 'inference': 241.50800704956055, 'postprocess': 2.0492076873779297}]"
      ]
     },
     "execution_count": 31,
     "metadata": {},
     "output_type": "execute_result"
    }
   ],
   "source": [
    "output"
   ]
  },
  {
   "cell_type": "markdown",
   "id": "a0421ba8-5ce5-4329-aa5e-aa2c85bd6b7e",
   "metadata": {
    "tags": []
   },
   "source": [
    "### Sequence of frames"
   ]
  },
  {
   "cell_type": "code",
   "execution_count": 17,
   "id": "20bdde83-3b19-4ac8-a813-a254132a5c2d",
   "metadata": {},
   "outputs": [],
   "source": [
    "# get coordinates \n",
    "def getcoord(output):\n",
    "    total_ = []\n",
    "    for result in output:\n",
    "        detection_count = result.boxes.shape[0]\n",
    "        if detection_count == 1:\n",
    "            keypoints = result.keypoints[0].numpy() \n",
    "            coords = [(x,y) for x,y,z in keypoints]\n",
    "            total_.append(coords[:2])\n",
    "        else:\n",
    "            print('none')\n",
    "    return total_"
   ]
  },
  {
   "cell_type": "code",
   "execution_count": 22,
   "id": "1bf25f49-6765-4bee-962c-811d86ac5168",
   "metadata": {},
   "outputs": [
    {
     "name": "stderr",
     "output_type": "stream",
     "text": [
      "\n",
      "0: 480x640 1 face, 1: 480x640 1 face, 2: 480x640 1 face, 3: 480x640 1 face, 4: 480x640 1 face, 5: 480x640 1 face, 6: 480x640 1 face, 7: 480x640 1 face, 8: 480x640 1 face, 9: 480x640 1 face, 10: 480x640 1 face, 11: 480x640 1 face, 12: 480x640 1 face, 3314.6ms\n",
      "Speed: 3.0ms preprocess, 255.0ms inference, 0.8ms postprocess per image at shape (1, 3, 640, 640)\n",
      "\n",
      "0: 480x640 1 face, 1: 480x640 1 face, 2: 480x640 1 face, 3: 480x640 1 face, 4: 480x640 1 face, 5: 480x640 1 face, 6: 480x640 1 face, 7: 480x640 1 face, 8: 480x640 1 face, 9: 480x640 1 face, 10: 480x640 1 face, 11: 480x640 1 face, 12: 480x640 1 face, 2933.7ms\n",
      "Speed: 1.6ms preprocess, 225.7ms inference, 0.7ms postprocess per image at shape (1, 3, 640, 640)\n",
      "\n",
      "0: 480x640 1 face, 1: 480x640 1 face, 2: 480x640 1 face, 3: 480x640 1 face, 4: 480x640 1 face, 5: 480x640 1 face, 6: 480x640 1 face, 7: 480x640 1 face, 8: 480x640 1 face, 9: 480x640 1 face, 10: 480x640 1 face, 11: 480x640 1 face, 12: 480x640 1 face, 1899.8ms\n",
      "Speed: 2.2ms preprocess, 146.1ms inference, 1.8ms postprocess per image at shape (1, 3, 640, 640)\n",
      "\n",
      "0: 480x640 1 face, 1: 480x640 1 face, 2: 480x640 1 face, 3: 480x640 1 face, 4: 480x640 1 face, 5: 480x640 1 face, 6: 480x640 1 face, 7: 480x640 1 face, 8: 480x640 1 face, 9: 480x640 1 face, 10: 480x640 1 face, 11: 480x640 1 face, 12: 480x640 1 face, 1940.9ms\n",
      "Speed: 1.6ms preprocess, 149.3ms inference, 0.6ms postprocess per image at shape (1, 3, 640, 640)\n",
      "\n",
      "0: 480x640 1 face, 1: 480x640 1 face, 2: 480x640 1 face, 3: 480x640 1 face, 4: 480x640 1 face, 5: 480x640 1 face, 6: 480x640 1 face, 7: 480x640 1 face, 8: 480x640 1 face, 9: 480x640 1 face, 10: 480x640 1 face, 11: 480x640 1 face, 12: 480x640 1 face, 2679.0ms\n",
      "Speed: 2.0ms preprocess, 206.1ms inference, 0.6ms postprocess per image at shape (1, 3, 640, 640)\n"
     ]
    }
   ],
   "source": [
    "# Main\n",
    "model = YOLO(MODEL)\n",
    "\n",
    "p_name = os.listdir(DIRS)\n",
    "p_name = [d for d in p_name if not d.startswith ('.')] \n",
    "\n",
    "\n",
    "\n",
    "for p in p_name:\n",
    "    cam = os.listdir(DIRS + \"/\"+ p)\n",
    "    cam = [d for d in cam if not d.startswith ('.')] \n",
    "\n",
    "\n",
    "    for c in cam :\n",
    "        root = DIRS + \"/\"+ p +\"/\"+ c\n",
    "        open_seq = os.listdir(root+\"/open/\")\n",
    "        close_seq = os.listdir(root+ \"/close/\")\n",
    "         \n",
    "        open_seq = [d for d in open_seq if not d.startswith ('.')] # Avoid .DS_Store \n",
    "        close_seq = [d for d in close_seq if not d.startswith ('.')] # Avoid .DS_Store \n",
    "\n",
    "\n",
    "        for o in open_seq:\n",
    "            imgs = os.listdir(root+\"/open/\"+o)\n",
    "            imgs.sort()\n",
    "            im_li = [root+\"/open/\"+o+\"/\"+ i for i in imgs] # input frames\n",
    "            output = model(source=im_li)  \n",
    "            \n",
    "            final_coord = getcoord(output) # get eye coordinates\n",
    "            \n",
    "            if len(final_coord) != 13: # error \n",
    "                #print(im_li)\n",
    "                continue\n",
    "            \n",
    "            else: # save\n",
    "                \n",
    "                for img,coords in zip(imgs,final_coord):\n",
    "                    im = cv2.imread(root+\"/open/\"+o+\"/\"+ img)\n",
    "                    coords = [(int(x[0]),int(x[1])) for x in coords]\n",
    "                    cv2.circle(im, (coords[0][0],coords[0][1]), 4, (255, 0, 0), 4) #오\n",
    "                    cv2.circle(im, (coords[1][0],coords[1][1]), 4, (0, 0, 255), 4) #왼\n",
    "                    cv2.imwrite(f'../../yolov8/{p}_{c}_c_{img}',im)\n",
    "                   \n",
    "            break\n",
    "                      \n",
    "            \n",
    "        break\n",
    "\n"
   ]
  }
 ],
 "metadata": {
  "kernelspec": {
   "display_name": "vir",
   "language": "python",
   "name": "vir"
  },
  "language_info": {
   "codemirror_mode": {
    "name": "ipython",
    "version": 3
   },
   "file_extension": ".py",
   "mimetype": "text/x-python",
   "name": "python",
   "nbconvert_exporter": "python",
   "pygments_lexer": "ipython3",
   "version": "3.10.4"
  }
 },
 "nbformat": 4,
 "nbformat_minor": 5
}
